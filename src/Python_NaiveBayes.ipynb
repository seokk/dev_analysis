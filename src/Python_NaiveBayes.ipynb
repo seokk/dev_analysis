{
 "cells": [
  {
   "cell_type": "markdown",
   "metadata": {},
   "source": [
    "[개념](https://yujuwon.tistory.com/entry/SCIKITLEARN-naive-bayes%EB%A5%BC-%EC%9D%B4%EC%9A%A9%ED%95%B4%EC%84%9C-%EB%AC%B8%EC%84%9C-%EB%B6%84%EB%A5%98-%ED%95%98%EA%B8%B0)\n",
    "\n",
    "- 조건부확률과 결합확률의 차이\n",
    "\n",
    "  조건부확률 = A와 B 두 사건이 종속적일 때\n",
    "  \n",
    "  결합확률 = A와 B 두 사건이 독립적일 때\n",
    "  \n",
    "[구현](https://wikidocs.net/22892)"
   ]
  },
  {
   "cell_type": "code",
   "execution_count": null,
   "metadata": {
    "collapsed": true
   },
   "outputs": [],
   "source": []
  }
 ],
 "metadata": {
  "kernelspec": {
   "display_name": "Python 3",
   "language": "python",
   "name": "python3"
  },
  "language_info": {
   "codemirror_mode": {
    "name": "ipython",
    "version": 3
   },
   "file_extension": ".py",
   "mimetype": "text/x-python",
   "name": "python",
   "nbconvert_exporter": "python",
   "pygments_lexer": "ipython3",
   "version": "3.6.3"
  }
 },
 "nbformat": 4,
 "nbformat_minor": 2
}
